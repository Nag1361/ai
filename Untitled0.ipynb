{
  "nbformat": 4,
  "nbformat_minor": 0,
  "metadata": {
    "colab": {
      "provenance": [],
      "authorship_tag": "ABX9TyPHvL7yk0OQEVBwWmqJrhqA",
      "include_colab_link": true
    },
    "kernelspec": {
      "name": "python3",
      "display_name": "Python 3"
    },
    "language_info": {
      "name": "python"
    }
  },
  "cells": [
    {
      "cell_type": "markdown",
      "metadata": {
        "id": "view-in-github",
        "colab_type": "text"
      },
      "source": [
        "<a href=\"https://colab.research.google.com/github/Nag1361/ai/blob/main/Untitled0.ipynb\" target=\"_parent\"><img src=\"https://colab.research.google.com/assets/colab-badge.svg\" alt=\"Open In Colab\"/></a>"
      ]
    },
    {
      "cell_type": "code",
      "execution_count": 1,
      "metadata": {
        "colab": {
          "base_uri": "https://localhost:8080/"
        },
        "id": "2WGBwtEWlcXD",
        "outputId": "6c24c637-a385-4070-b2f2-29392c87ce26"
      },
      "outputs": [
        {
          "output_type": "stream",
          "name": "stdout",
          "text": [
            "hello world\n"
          ]
        }
      ],
      "source": [
        "print(\"hello world\")"
      ]
    },
    {
      "cell_type": "code",
      "source": [
        "import numpy as np\n",
        "List = [1, 2, 3, 4, 5, 6, 7, 8, 9]\n",
        "npList = np.array(List)\n",
        "n = len(npList)\n",
        "for i in range(n):\n",
        "    print(npList[i])\n",
        "#printing an array\n",
        "a = int(input(\"Enter a number: \"))\n",
        "b = np.array([1, 2, 3, 4, 5])\n",
        "b_list = b.tolist()\n",
        "b_list.append(a)\n",
        "b = np.array(b_list)\n",
        "print(b)\n",
        "#identifing the types\n",
        "A = \"Hello, world!\"\n",
        "variable = 42\n",
        "float= 3.14\n",
        "list = [1, 2, 3]\n",
        "array = np.array([1, 2, 3])\n",
        "print(\"Type of string_variable:\", type(A))\n",
        "print(\"Type of variable:\", type(variable))\n",
        "print(\"Type of float:\", type(float))\n",
        "print(\"Type of list:\", type(list))\n",
        "print(\"Type of array:\", type(array))\n",
        "a = int(input(\"Enter a number: \"))\n",
        "b = int(input(\"Enter a number: \"))\n",
        "mul_result = a * b\n",
        "print(f\"{a} * {b} = {mul_result}\")\n",
        "div_result = a / b\n",
        "print(f\"{a} / {b} = {div_result}\")\n",
        "pow_result = a ** b\n",
        "print(f\"{a} ** {b} = {pow_result}\")\n",
        "#combine text with numpy function to generate a textual output addition of two array1 and array2\n",
        "array1 = np.array([1, 2, 3, 4])\n",
        "array2 = np.array([5, 6, 7, 8])\n",
        "result = array1 + array2\n",
        "textual_output = (\n",
        "    f\"Array 1: {array1}\\n\"\n",
        "    f\"Array 2: {array2}\\n\"\n",
        "    f\"Addition of Array 1 and Array 2:\\n\"\n",
        "    f\"{result}\"\n",
        ")\n",
        "print(textual_output)\n",
        "x = 2.0\n",
        "sin_x = np.sin(x)\n",
        "print(f\"sin({x}) = {sin_x}\")\n",
        "log_x = np.log(x)\n",
        "print(f\"log({x}) = {log_x}\")\n",
        "log2_x = np.log2(x)\n",
        "print(f\"log2({x}) = {log2_x}\")\n",
        "exp_x = np.exp(x)\n",
        "print(f\"exp({x}) = {exp_x}\")"
      ],
      "metadata": {
        "colab": {
          "base_uri": "https://localhost:8080/"
        },
        "id": "fGMAgELPqUlQ",
        "outputId": "4e96df44-bd4d-4a13-adf4-889d44911457"
      },
      "execution_count": 3,
      "outputs": [
        {
          "output_type": "stream",
          "name": "stdout",
          "text": [
            "1\n",
            "2\n",
            "3\n",
            "4\n",
            "5\n",
            "6\n",
            "7\n",
            "8\n",
            "9\n",
            "Enter a number: 2\n",
            "[1 2 3 4 5 2]\n",
            "Type of string_variable: <class 'str'>\n",
            "Type of variable: <class 'int'>\n",
            "Type of float: <class 'float'>\n",
            "Type of list: <class 'list'>\n",
            "Type of array: <class 'numpy.ndarray'>\n",
            "Enter a number: 4\n",
            "Enter a number: 5\n",
            "4 * 5 = 20\n",
            "4 / 5 = 0.8\n",
            "4 ** 5 = 1024\n",
            "Array 1: [1 2 3 4]\n",
            "Array 2: [5 6 7 8]\n",
            "Addition of Array 1 and Array 2:\n",
            "[ 6  8 10 12]\n",
            "sin(2.0) = 0.9092974268256817\n",
            "log(2.0) = 0.6931471805599453\n",
            "log2(2.0) = 1.0\n",
            "exp(2.0) = 7.38905609893065\n"
          ]
        }
      ]
    }
  ]
}