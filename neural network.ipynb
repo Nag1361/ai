{
  "nbformat": 4,
  "nbformat_minor": 0,
  "metadata": {
    "colab": {
      "provenance": [],
      "authorship_tag": "ABX9TyPCnlDpKBrl+pcVbA1cJD62",
      "include_colab_link": true
    },
    "kernelspec": {
      "name": "python3",
      "display_name": "Python 3"
    },
    "language_info": {
      "name": "python"
    }
  },
  "cells": [
    {
      "cell_type": "markdown",
      "metadata": {
        "id": "view-in-github",
        "colab_type": "text"
      },
      "source": [
        "<a href=\"https://colab.research.google.com/github/Nag1361/ai/blob/main/neural%20network.ipynb\" target=\"_parent\"><img src=\"https://colab.research.google.com/assets/colab-badge.svg\" alt=\"Open In Colab\"/></a>"
      ]
    },
    {
      "cell_type": "code",
      "execution_count": 3,
      "metadata": {
        "colab": {
          "base_uri": "https://localhost:8080/"
        },
        "id": "8iWnU5Q4rsYZ",
        "outputId": "072c0ae1-4bfb-494b-e2df-97a6e4644361"
      },
      "outputs": [
        {
          "output_type": "stream",
          "name": "stdout",
          "text": [
            "4.0\n"
          ]
        }
      ],
      "source": [
        "inputs=[1 , 2, 3]\n",
        "weights=[0.1,0.2,0.5]\n",
        "bias=2\n",
        "output = inputs[0]*weights[0] + inputs[1]*weights[1]+inputs[2]*weights[2]+bias\n",
        "print(output)"
      ]
    },
    {
      "cell_type": "code",
      "source": [
        "inputs=[0.4,0.3,1,0.8]\n",
        "weights1 =[0.3,0.2,0.1,0.4]\n",
        "weights2=[0.4,0.1,-0.1,0.2]\n",
        "weights3=[0.2,-0.2,-0.1,0.8]\n",
        "bias1=0.5\n",
        "bias2=0.3\n",
        "bias3=0.6\n",
        "output=[inputs[0]*weights1[0]+inputs[1]*weights1[1]+inputs[2]*weights1[2]+inputs[3]*weights1[3]+bias1,\n",
        "       inputs[0]*weights2[0]+inputs[1]*weights2[1]+inputs[2]*weights2[2]+inputs[3]*weights2[3]+bias2,\n",
        "       inputs[0]*weights3[0]+inputs[1]*weights3[1]+inputs[2]*weights3[2]+inputs[3]*weights3[3]+bias3]\n",
        "print(output)\n"
      ],
      "metadata": {
        "colab": {
          "base_uri": "https://localhost:8080/"
        },
        "id": "t28S4LnxwAaX",
        "outputId": "a109ba66-6e04-4632-f7a1-7af0080fe7a3"
      },
      "execution_count": 10,
      "outputs": [
        {
          "output_type": "stream",
          "name": "stdout",
          "text": [
            "[0.78, 0.39, 0.52]\n"
          ]
        }
      ]
    },
    {
      "cell_type": "code",
      "source": [
        "import numpy as np\n",
        "\n",
        "inputs = np.array([1, 2, 3, 2.5])\n",
        "weights = np.array([\n",
        "    [0.1, 0.2, 0.5],\n",
        "    [0.2, 0.3, 0.6],\n",
        "    [0.3, 0.4, 0.7],\n",
        "    [0.4, 0.5, 0.8],\n",
        "])\n",
        "biases = np.array([2, 3, 0.5])\n",
        "output = np.dot(inputs, weights) + biases\n",
        "print(output)"
      ],
      "metadata": {
        "colab": {
          "base_uri": "https://localhost:8080/"
        },
        "id": "CM-P1VAq05gp",
        "outputId": "97844340-a30e-41d1-851b-dec00278759c"
      },
      "execution_count": 23,
      "outputs": [
        {
          "output_type": "stream",
          "name": "stdout",
          "text": [
            "[4.4  6.25 6.3 ]\n"
          ]
        }
      ]
    },
    {
      "cell_type": "code",
      "source": [
        "import numpy as np\n",
        "def sigmoid(x):\n",
        "  return 1 / (1 + np.exp(-x))\n",
        "def relu(x):\n",
        "  return np.maximum(0, x)\n",
        "inputs = np.array([1, 2, 3, 2.5])\n",
        "weights = np.array([0.2, 0.8, -0.5, 1.0])\n",
        "bias = 2\n",
        "output = np.dot(inputs, weights) + bias\n",
        "output1= relu(output)\n",
        "print(output1)\n",
        "output2= sigmoid(output)\n",
        "print(output2)"
      ],
      "metadata": {
        "colab": {
          "base_uri": "https://localhost:8080/"
        },
        "id": "IlUTg5aI6wgs",
        "outputId": "3632c3af-c6d4-498a-8225-b850566f0259"
      },
      "execution_count": 31,
      "outputs": [
        {
          "output_type": "stream",
          "name": "stdout",
          "text": [
            "4.8\n",
            "0.9918374288468401\n"
          ]
        }
      ]
    }
  ]
}